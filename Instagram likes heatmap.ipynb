{
 "cells": [
  {
   "cell_type": "code",
   "execution_count": null,
   "metadata": {
    "scrolled": true
   },
   "outputs": [],
   "source": [
    "# API utils libraries.\n",
    "import requests\n",
    "import json\n",
    "\n",
    "# Data handling libraries\n",
    "import pandas as pd\n",
    "from pandas.io.json import json_normalize\n",
    "import numpy as np\n",
    "\n",
    "# Data visualization libraries.\n",
    "pd.plotting.register_matplotlib_converters()\n",
    "import matplotlib.pyplot as plt\n",
    "%matplotlib inline\n",
    "import seaborn as sns\n",
    "\n",
    "print(\"Setup Complete\")\n"
   ]
  },
  {
   "cell_type": "code",
   "execution_count": null,
   "metadata": {},
   "outputs": [],
   "source": [
    "# Array containing the list of existing media objects.\n",
    "media_list = []\n",
    "\n",
    "# Get Media API endpoint parameters.\n",
    "\n",
    "# The total number of media objects we want to retrieve.\n",
    "# For the purpose of our example, we'll retrieve 300 pictures.\n",
    "total_media = 300\n",
    "# Your Instagram user id.\n",
    "ig_user_id = 'yyyy'\n",
    "# API access token.\n",
    "token = 'XXXX'\n",
    "media_endpoint = 'https://graph.facebook.com/v7.0/%s/media?fields=timestamp,like_count,comments_count,media_type&access_token=%s&limit=%s' % (ig_user_id, token, total_media)\n",
    "\n",
    "# Get the number of required media objects.\n",
    "response = requests.get(media_endpoint)\n",
    "response_json = response.json()\n",
    "\n",
    "if \"error\" in response_json:\n",
    "    raise Exception(response_json[\"error\"][\"message\"]) \n",
    "        \n",
    "media_list = response_json[\"data\"]"
   ]
  },
  {
   "cell_type": "code",
   "execution_count": null,
   "metadata": {
    "scrolled": true
   },
   "outputs": [],
   "source": [
    "instagram_data_normalised = pd.json_normalize(media_list)\n",
    "instagram_data_normalised.tail()"
   ]
  },
  {
   "cell_type": "code",
   "execution_count": null,
   "metadata": {},
   "outputs": [],
   "source": [
    "instagram_data = instagram_data_normalised.copy()\n",
    "\n",
    "# Remove videos from our dataset.\n",
    "# instagram_data = instagram_data.drop(instagram_data[instagram_data.media_type != 'IMAGE'].index)\n",
    "\n",
    "# Convert the timestamp to datetime type.\n",
    "instagram_data['timestamp'] = pd.to_datetime(instagram_data['timestamp'], errors='coerce')\n",
    "\n",
    "# Create an additional column to extract the day \n",
    "# of the week when the media object was uploaded.\n",
    "instagram_data[\"weekday\"] = instagram_data[\"timestamp\"].dt.weekday\n",
    "\n",
    "# Create an additional column to extract the time\n",
    "# (hour) when the media object was uploaded.\n",
    "instagram_data[\"hour\"] = instagram_data[\"timestamp\"].dt.hour\n",
    "\n",
    "# Convert week days from numerical (0-6) to categorical values (Monday-Sunday).\n",
    "weekday_categoricals = {\n",
    "    \"weekday\": {\n",
    "        0: \"Monday\",\n",
    "        1: \"Tuesday\",\n",
    "        2: \"Wednesday\",\n",
    "        3: \"Thursday\",\n",
    "        4: \"Friday\",\n",
    "        5: \"Saturday\",\n",
    "        6: \"Sunday\"\n",
    "    }\n",
    "}\n",
    "instagram_data.replace(weekday_categoricals, inplace=True)\n",
    "\n",
    "# Remove no longer needed columns.\n",
    "del instagram_data['id']\n",
    "del instagram_data['timestamp']\n",
    "del instagram_data['comments_count']\n",
    "del instagram_data['media_type']\n",
    "\n",
    "instagram_data.head()"
   ]
  },
  {
   "cell_type": "code",
   "execution_count": null,
   "metadata": {
    "scrolled": true
   },
   "outputs": [],
   "source": [
    "# Pivot the dataframe to use hour as index (Y axis) and\n",
    "# week days as labels (X axis). We could use just one\n",
    "# pivot table (using aggfunc='mean') bu twe want to process\n",
    "# the count table first.\n",
    "instagram_data_pivot_count = instagram_data.pivot_table(\n",
    "    index='hour',\n",
    "    columns='weekday',\n",
    "    values='like_count',\n",
    "    aggfunc='count')\n",
    "\n",
    "\n",
    "instagram_data_pivot_sum = instagram_data.pivot_table(\n",
    "    index=\"hour\",\n",
    "    columns='weekday',\n",
    "    values='like_count',\n",
    "    aggfunc=np.sum)\n",
    "\n",
    "# Remove from the dataset time slots with less than one\n",
    "# uploaded picture.\n",
    "instagram_data_pivot_count = instagram_data_pivot_count[instagram_data_pivot_count > 1]\n",
    "\n",
    "# Calculate the picture likes mean per time slot.\n",
    "instagram_data_pivot_mean = instagram_data_pivot_sum / instagram_data_pivot_count\n",
    "\n",
    "instagram_data_pivot_mean.tail()\n"
   ]
  },
  {
   "cell_type": "code",
   "execution_count": null,
   "metadata": {},
   "outputs": [],
   "source": [
    "# Initialise the plot configuration.\n",
    "sns.set()\n",
    "fig, ax = plt.subplots(figsize=(18,18))\n",
    "\n",
    "# Set the graph to be displayed.\n",
    "ax = sns.heatmap(cmap=\"Blues\", data=instagram_data_pivot_mean, annot=True, xticklabels=[\"Monday\",\"Tuesday\",\"Wednesday\",\"Thursday\",\"Friday\",\"Saturday\",\"Sunday\"])\n",
    "\n",
    "# Set other graph visualisation parameters.\n",
    "pos, textvals = plt.yticks()\n",
    "plt.xticks(fontsize=\"12\")\n",
    "plt.yticks(np.concatenate((pos , np.array([pos[len(pos) - 1] + 1]))) - 0.5, instagram_data_pivot_mean.index, rotation=0, fontsize=\"12\", va=\"center\")\n",
    "\n",
    "ax.set_title('Instagram likes', fontsize=20, fontdict={})\n",
    "ax.set_xlabel('Day of the week', fontsize=16)\n",
    "ax.set_ylabel('Time', fontsize=16)\n",
    "\n",
    "ax.set_facecolor((1, 1, 1))\n",
    "\n",
    "# Display the Heatmap!\n",
    "plt.show()"
   ]
  },
  {
   "cell_type": "code",
   "execution_count": null,
   "metadata": {},
   "outputs": [],
   "source": []
  }
 ],
 "metadata": {
  "kernelspec": {
   "display_name": "Python 3",
   "language": "python",
   "name": "python3"
  },
  "language_info": {
   "codemirror_mode": {
    "name": "ipython",
    "version": 3
   },
   "file_extension": ".py",
   "mimetype": "text/x-python",
   "name": "python",
   "nbconvert_exporter": "python",
   "pygments_lexer": "ipython3",
   "version": "3.7.5"
  }
 },
 "nbformat": 4,
 "nbformat_minor": 2
}
